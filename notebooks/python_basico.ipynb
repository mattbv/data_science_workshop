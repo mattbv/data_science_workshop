{
  "nbformat": 4,
  "nbformat_minor": 0,
  "metadata": {
    "colab": {
      "name": "python_basico.ipynb",
      "provenance": [],
      "collapsed_sections": [
        "OF8DorjGu4lq",
        "iTQ-Vofrx_LI",
        "HWlT1ufWptpr",
        "cTW0_foVWbqp",
        "3dNy3x1Jclvu",
        "1YutuFGjgloY"
      ]
    },
    "kernelspec": {
      "name": "python3",
      "display_name": "Python 3"
    }
  },
  "cells": [
    {
      "cell_type": "markdown",
      "metadata": {
        "id": "psAwaY3WhFy6",
        "colab_type": "text"
      },
      "source": [
        "# Introdução - Python 3\n"
      ]
    },
    {
      "cell_type": "markdown",
      "metadata": {
        "id": "_ruTU-VUhENM",
        "colab_type": "text"
      },
      "source": [
        "**Descrição:** Exercício demonstrando conceitos básicos da linguagem de programação Python 3. \n",
        "\n",
        "Essa introdução é baseada no guia oficial disponível em [https://docs.python.org/3.7/tutorial/introduction.html](https://docs.python.org/3.7/tutorial/introduction.html)\n",
        "\n",
        "**Tópicos:**\n",
        "\n",
        "*   Informações iniciais\n",
        "*   Tipos básicos de dados\n",
        "*   Operadores matemáticos\n",
        "*   Operadores relacionais e lógicos\n",
        "*   Variáveis\n",
        "*   Controles de fluxo\n",
        "*   Funções\n",
        "\n",
        "\n"
      ]
    },
    {
      "cell_type": "markdown",
      "metadata": {
        "id": "OF8DorjGu4lq",
        "colab_type": "text"
      },
      "source": [
        "## Informações iniciais"
      ]
    },
    {
      "cell_type": "markdown",
      "metadata": {
        "id": "8cHvVC4Uu8Gu",
        "colab_type": "text"
      },
      "source": [
        "**Conceitos básicos:**\n",
        "\n",
        "\n",
        "*   Instruções são executadas linha à linha\n",
        "*   Linhas em branco são ignoradas\n",
        "*   Python requer indentação de subrotinas\n",
        "*   Instrução sequencial (síncrona) - Para que a instrução em uma linha possa ser executada a instrução anterior precisa ser concluída\n",
        "*   Comentários (declarados usando o símbolo #) podem ser incluídos para facilitar o entendimento da instrução\n",
        "\n"
      ]
    },
    {
      "cell_type": "markdown",
      "metadata": {
        "id": "upBtUD-ev7Sr",
        "colab_type": "text"
      },
      "source": [
        "**Exemplo:**"
      ]
    },
    {
      "cell_type": "code",
      "metadata": {
        "id": "t-75eXc-wAbx",
        "colab_type": "code",
        "colab": {
          "base_uri": "https://localhost:8080/",
          "height": 51
        },
        "outputId": "f65b7d2d-252e-405a-ebc2-e3f2839ee503"
      },
      "source": [
        "# Exemplo básico de um script em Python\n",
        "# Isso é um comentário (não será executado)\n",
        "print(\"Primeira instrução!\") # Executa essa linha primeiro\n",
        "\n",
        "print(\"Quinta linha, segunda instrução.\") # Instrução executada após a primeira instrução"
      ],
      "execution_count": 7,
      "outputs": [
        {
          "output_type": "stream",
          "text": [
            "Primeira instrução!\n",
            "Quinta linha, segunda instrução.\n"
          ],
          "name": "stdout"
        }
      ]
    },
    {
      "cell_type": "markdown",
      "metadata": {
        "id": "iTQ-Vofrx_LI",
        "colab_type": "text"
      },
      "source": [
        "## Tipos básicos de dados\n"
      ]
    },
    {
      "cell_type": "markdown",
      "metadata": {
        "id": "DU4S1uSayCSH",
        "colab_type": "text"
      },
      "source": [
        "**Números**\n",
        "\n",
        "*   Inteiros (int):\n",
        "\n",
        "    *   1\n",
        "    *   2\n",
        "    *   10000\n",
        "    *   -1\n",
        "    *   -5\n",
        "    *   0\n",
        "\n",
        "\n",
        "*   Fracionais (float): 1.0, 1.5, -2.3, 10.0\n",
        "\n",
        "    *   1.0\n",
        "    *   1.5\n",
        "    *   10.3333333\n",
        "    *   -2.4\n",
        "    *   -0.0\n",
        "    *   0.0\n",
        "\n"
      ]
    },
    {
      "cell_type": "markdown",
      "metadata": {
        "id": "FsuQcGW02lk3",
        "colab_type": "text"
      },
      "source": [
        "**Texto (str)**\n",
        "\n",
        "\n",
        "\n",
        "*   \"a\"\n",
        "*   \"Exemplo\" \n",
        "*   'Exemplo\n",
        "*   \"Várias palavras em uma mesma string (str)\"\n",
        "*   '6'\n",
        "*   'Declarando aspas (\" \") como parte do texto'\n",
        "\n"
      ]
    },
    {
      "cell_type": "markdown",
      "metadata": {
        "id": "aXypLKRNI2CX",
        "colab_type": "text"
      },
      "source": [
        "**Listas (list)**\n",
        "\n",
        "\n",
        "*   Lista de items, separados por vírgula, declarados entre colchetes \"[ ]\"\n",
        "*   Podem ser alteradas após declaradas\n",
        "*   Podem incluir dados de tipos diferentes\n",
        "\n",
        "*   *Exemplos:*\n",
        "  *   [1, 2, 3]\n",
        "  *   [1, 2.0, 3.5, 4]\n",
        "  *   [1, \"a\", 3.0]\n",
        "  *   [\"exemplo de item\", 1.2, 'a']\n",
        "  *   ['exemplo com lista dentro de lista', [1, 2, 3.5]]\n",
        "\n",
        "\n"
      ]
    },
    {
      "cell_type": "markdown",
      "metadata": {
        "id": "xsQB1eYINU99",
        "colab_type": "text"
      },
      "source": [
        "**Tuplas (tuple)**\n",
        "\n",
        "\n",
        "*   Similar à listas, mas imutável e declarada entre parênteses \"( )\"\n",
        "*   *Exemplos:*\n",
        "  *   (1, 2, 3)\n",
        "  *   (1, 2.0, 3.5, 4)\n",
        "  *   (1, \"a\", 3.0)\n",
        "  *   (\"exemplo de item\", 1.2, 'a')\n",
        "  *   ('exemplo com lista dentro de lista', [1, 2, 3.5])\n",
        "\n"
      ]
    },
    {
      "cell_type": "markdown",
      "metadata": {
        "id": "1ux0n_C8N5qk",
        "colab_type": "text"
      },
      "source": [
        "**Dicionários (dict)**\n",
        "\n",
        "\n",
        "*   Similar à uma lista, mas com chaves relacionadas a cada valor\n",
        "*   Declaração é feita na forma {chave: valor}\n",
        "*   Valores podem ser alterados após declaração\n",
        "*   Chaves e valores podem ser números, strings, tuplas e qualquer outro tipo de variável imutável\n",
        "*   *Exemplos:*\n",
        "    * {'a': 1, 'b': 2}\n",
        "    * {1: 1, 2: 'a', 'test': [1, 2, 3]}\n",
        "    * {(1, 2, 3): 'teste'}\n",
        "\n"
      ]
    },
    {
      "cell_type": "markdown",
      "metadata": {
        "id": "HWlT1ufWptpr",
        "colab_type": "text"
      },
      "source": [
        "## Operadores matemáticos"
      ]
    },
    {
      "cell_type": "markdown",
      "metadata": {
        "id": "eDSMiXNNp0Pf",
        "colab_type": "text"
      },
      "source": [
        "Operadores matemáticos seguem a regra de prioridade:\n",
        "\n",
        "\n",
        "\n",
        "1.   Potenciação ou Radiciação\n",
        "2.   Multiplicação ou Divisão\n",
        "3.   Adição ou Subtração\n",
        "\n"
      ]
    },
    {
      "cell_type": "markdown",
      "metadata": {
        "id": "cXHq6UZ8SYWt",
        "colab_type": "text"
      },
      "source": [
        "### Exemplos de operações matemáticas"
      ]
    },
    {
      "cell_type": "markdown",
      "metadata": {
        "id": "aBt1tciATUWP",
        "colab_type": "text"
      },
      "source": [
        "Soma de dois números inteiros resulta em outro número inteiro:"
      ]
    },
    {
      "cell_type": "code",
      "metadata": {
        "id": "2Pil5jq-SgkJ",
        "colab_type": "code",
        "colab": {
          "base_uri": "https://localhost:8080/",
          "height": 34
        },
        "outputId": "a7cf065b-eb2d-4b8d-aad8-7c68dc5751e8"
      },
      "source": [
        "2 + 2"
      ],
      "execution_count": 22,
      "outputs": [
        {
          "output_type": "execute_result",
          "data": {
            "text/plain": [
              "4"
            ]
          },
          "metadata": {
            "tags": []
          },
          "execution_count": 22
        }
      ]
    },
    {
      "cell_type": "markdown",
      "metadata": {
        "id": "2-hlwDuhTZVk",
        "colab_type": "text"
      },
      "source": [
        "Seguindo a ordem de prioridade, o código abaixo é execudato na seguine sequência:\n",
        "\n",
        "\n",
        "1.   5 * 6 = 30\n",
        "2.   50 - 30 = 20\n",
        "\n"
      ]
    },
    {
      "cell_type": "code",
      "metadata": {
        "id": "0knVxhPTSluF",
        "colab_type": "code",
        "colab": {
          "base_uri": "https://localhost:8080/",
          "height": 34
        },
        "outputId": "b6e5c4dc-cda9-4613-b058-97c13e6fab83"
      },
      "source": [
        "50 - 5 * 6"
      ],
      "execution_count": 29,
      "outputs": [
        {
          "output_type": "execute_result",
          "data": {
            "text/plain": [
              "20"
            ]
          },
          "metadata": {
            "tags": []
          },
          "execution_count": 29
        }
      ]
    },
    {
      "cell_type": "markdown",
      "metadata": {
        "id": "8_VqpJwWTwV8",
        "colab_type": "text"
      },
      "source": [
        "O uso de parênteses muda a ordem das operações. O código baixo agora executa na seguinte sequência:\n",
        "\n",
        "\n",
        "1.   50 - 5 = 45\n",
        "2.   45 * 6 = 270\n",
        "\n"
      ]
    },
    {
      "cell_type": "code",
      "metadata": {
        "id": "VOmqikcjS0bB",
        "colab_type": "code",
        "colab": {
          "base_uri": "https://localhost:8080/",
          "height": 34
        },
        "outputId": "4b4f9c28-a8dd-46d4-a62b-858ea41736f4"
      },
      "source": [
        "(50 - 5) * 6"
      ],
      "execution_count": 30,
      "outputs": [
        {
          "output_type": "execute_result",
          "data": {
            "text/plain": [
              "270"
            ]
          },
          "metadata": {
            "tags": []
          },
          "execution_count": 30
        }
      ]
    },
    {
      "cell_type": "markdown",
      "metadata": {
        "id": "_E-j-FMYUC1i",
        "colab_type": "text"
      },
      "source": [
        "Múltiplas operações dentro de parênteses seguem a ordem de prioridade de execução. O código abaixo executa na seguinte ordem:\n",
        "\n",
        "\n",
        "1.   5 * 6 = 30\n",
        "2.   50 - 30 = 20\n",
        "3.   20 / 4 = 5.0\n",
        "\n"
      ]
    },
    {
      "cell_type": "code",
      "metadata": {
        "id": "pDrwzo1FSmOD",
        "colab_type": "code",
        "colab": {
          "base_uri": "https://localhost:8080/",
          "height": 34
        },
        "outputId": "0bf3a3f1-7972-47d5-d9a3-4f1571afa578"
      },
      "source": [
        "(50 - 5 * 6) / 4"
      ],
      "execution_count": 31,
      "outputs": [
        {
          "output_type": "execute_result",
          "data": {
            "text/plain": [
              "5.0"
            ]
          },
          "metadata": {
            "tags": []
          },
          "execution_count": 31
        }
      ]
    },
    {
      "cell_type": "markdown",
      "metadata": {
        "id": "K7BthS1CVJ_4",
        "colab_type": "text"
      },
      "source": [
        "Como pode ser visto no resultado acima e no código abaixo, divisão em Python 3 sempre resulta em um número fracionário:"
      ]
    },
    {
      "cell_type": "code",
      "metadata": {
        "id": "dIBOGJbISmey",
        "colab_type": "code",
        "colab": {
          "base_uri": "https://localhost:8080/",
          "height": 34
        },
        "outputId": "8de39163-cc45-4fdd-ca17-58c005e7d52b"
      },
      "source": [
        "8 / 5"
      ],
      "execution_count": 33,
      "outputs": [
        {
          "output_type": "execute_result",
          "data": {
            "text/plain": [
              "1.6"
            ]
          },
          "metadata": {
            "tags": []
          },
          "execution_count": 33
        }
      ]
    },
    {
      "cell_type": "markdown",
      "metadata": {
        "id": "2gNxvJK9VchW",
        "colab_type": "text"
      },
      "source": [
        "Exemplo de potenciação:"
      ]
    },
    {
      "cell_type": "code",
      "metadata": {
        "id": "xkIOodElSmtE",
        "colab_type": "code",
        "colab": {
          "base_uri": "https://localhost:8080/",
          "height": 34
        },
        "outputId": "53d9ff8a-c5ef-4c86-e992-1e96dbbbb448"
      },
      "source": [
        "5 ** 2"
      ],
      "execution_count": 34,
      "outputs": [
        {
          "output_type": "execute_result",
          "data": {
            "text/plain": [
              "25"
            ]
          },
          "metadata": {
            "tags": []
          },
          "execution_count": 34
        }
      ]
    },
    {
      "cell_type": "markdown",
      "metadata": {
        "id": "W_j7ZOX3Vk3C",
        "colab_type": "text"
      },
      "source": [
        "Python não tem uma expressão própria para radiciação. A solução é usar alguma library que contenha o método de radiciação ou usar a definição matemática para radiciação (raiz é o inverso da potência):"
      ]
    },
    {
      "cell_type": "code",
      "metadata": {
        "id": "YuUipTAqSm8g",
        "colab_type": "code",
        "colab": {
          "base_uri": "https://localhost:8080/",
          "height": 34
        },
        "outputId": "9e2b43a5-454f-410b-879b-52df7dd99556"
      },
      "source": [
        "25 ** (1 / 2)"
      ],
      "execution_count": 36,
      "outputs": [
        {
          "output_type": "execute_result",
          "data": {
            "text/plain": [
              "5.0"
            ]
          },
          "metadata": {
            "tags": []
          },
          "execution_count": 36
        }
      ]
    },
    {
      "cell_type": "markdown",
      "metadata": {
        "id": "cTW0_foVWbqp",
        "colab_type": "text"
      },
      "source": [
        "## Operadores relacionais e lógicos"
      ]
    },
    {
      "cell_type": "markdown",
      "metadata": {
        "id": "IToxjQhoWgA8",
        "colab_type": "text"
      },
      "source": [
        "Operadores lógicos são usados para testar uma hipótese relacional entre dois valores.\n",
        "\n",
        "Os operadores mais comuns em Python são:\n",
        "\n",
        "\n",
        "*   == (igual a)\n",
        "*   != (diferente de)\n",
        "*   \\> (maior que)\n",
        "*   < (menor que)\n",
        "*   \\>= (maior ou igual a)\n",
        "*   <= (menor ou igual a)\n",
        "\n",
        "\n",
        "\n",
        "Esses operadores são utilizados da mesma forma que os operadores matemáticos:\n",
        "> `valor1 operador valor2`\n",
        "\n",
        "O resultado de qualquer um desses testes é Verdadeiro (`True`) ou Falso (`False`).\n",
        "\n"
      ]
    },
    {
      "cell_type": "markdown",
      "metadata": {
        "id": "A25rTPPhZ1R8",
        "colab_type": "text"
      },
      "source": [
        "### Exemplo"
      ]
    },
    {
      "cell_type": "markdown",
      "metadata": {
        "id": "RXBLP_hZZ6ub",
        "colab_type": "text"
      },
      "source": [
        "**Teste de hipótese entre números:**"
      ]
    },
    {
      "cell_type": "code",
      "metadata": {
        "id": "7lRargigaC4l",
        "colab_type": "code",
        "colab": {
          "base_uri": "https://localhost:8080/",
          "height": 34
        },
        "outputId": "d3fb6447-f0f0-4534-a9ff-3e65c3d452be"
      },
      "source": [
        "1 == 1"
      ],
      "execution_count": 37,
      "outputs": [
        {
          "output_type": "execute_result",
          "data": {
            "text/plain": [
              "True"
            ]
          },
          "metadata": {
            "tags": []
          },
          "execution_count": 37
        }
      ]
    },
    {
      "cell_type": "code",
      "metadata": {
        "id": "Ri09Pq35aCrW",
        "colab_type": "code",
        "colab": {
          "base_uri": "https://localhost:8080/",
          "height": 34
        },
        "outputId": "023b7898-7989-4873-95ef-5068fa908490"
      },
      "source": [
        "1 == 2"
      ],
      "execution_count": 38,
      "outputs": [
        {
          "output_type": "execute_result",
          "data": {
            "text/plain": [
              "False"
            ]
          },
          "metadata": {
            "tags": []
          },
          "execution_count": 38
        }
      ]
    },
    {
      "cell_type": "code",
      "metadata": {
        "id": "-D27hFpXaWWe",
        "colab_type": "code",
        "colab": {
          "base_uri": "https://localhost:8080/",
          "height": 34
        },
        "outputId": "d5b80f2f-9dd9-4c2a-a47d-bd9f0bddd136"
      },
      "source": [
        "1 != 2"
      ],
      "execution_count": 42,
      "outputs": [
        {
          "output_type": "execute_result",
          "data": {
            "text/plain": [
              "True"
            ]
          },
          "metadata": {
            "tags": []
          },
          "execution_count": 42
        }
      ]
    },
    {
      "cell_type": "code",
      "metadata": {
        "id": "JLdln-ZJZ7li",
        "colab_type": "code",
        "colab": {
          "base_uri": "https://localhost:8080/",
          "height": 34
        },
        "outputId": "d5a64a60-00ca-45ed-c5d8-a10ad5122f60"
      },
      "source": [
        "1 == 1.0 # O valor numérico é comparado, então o tipo de dado é irrelevante nesse caso"
      ],
      "execution_count": 40,
      "outputs": [
        {
          "output_type": "execute_result",
          "data": {
            "text/plain": [
              "True"
            ]
          },
          "metadata": {
            "tags": []
          },
          "execution_count": 40
        }
      ]
    },
    {
      "cell_type": "code",
      "metadata": {
        "id": "8HEmhcnvaPbO",
        "colab_type": "code",
        "colab": {
          "base_uri": "https://localhost:8080/",
          "height": 34
        },
        "outputId": "3172b87b-4dd7-4489-e468-a097fa43cc3c"
      },
      "source": [
        "2 == 2.0000000001 # Somente equivalência exata é válida"
      ],
      "execution_count": 41,
      "outputs": [
        {
          "output_type": "execute_result",
          "data": {
            "text/plain": [
              "False"
            ]
          },
          "metadata": {
            "tags": []
          },
          "execution_count": 41
        }
      ]
    },
    {
      "cell_type": "code",
      "metadata": {
        "id": "pL0D-pm3aaaO",
        "colab_type": "code",
        "colab": {
          "base_uri": "https://localhost:8080/",
          "height": 34
        },
        "outputId": "4c6eba63-3b3a-4d0b-aa88-9a780ad6eead"
      },
      "source": [
        "1 >= 2"
      ],
      "execution_count": 43,
      "outputs": [
        {
          "output_type": "execute_result",
          "data": {
            "text/plain": [
              "False"
            ]
          },
          "metadata": {
            "tags": []
          },
          "execution_count": 43
        }
      ]
    },
    {
      "cell_type": "code",
      "metadata": {
        "id": "22Eu-A_naaU3",
        "colab_type": "code",
        "colab": {
          "base_uri": "https://localhost:8080/",
          "height": 34
        },
        "outputId": "0041aac3-74c9-490b-83d1-09a58f7a297c"
      },
      "source": [
        "-10 <= -10"
      ],
      "execution_count": 44,
      "outputs": [
        {
          "output_type": "execute_result",
          "data": {
            "text/plain": [
              "True"
            ]
          },
          "metadata": {
            "tags": []
          },
          "execution_count": 44
        }
      ]
    },
    {
      "cell_type": "code",
      "metadata": {
        "id": "oW-h_v63aaOj",
        "colab_type": "code",
        "colab": {
          "base_uri": "https://localhost:8080/",
          "height": 34
        },
        "outputId": "c6b550a6-c4a1-4312-f63f-576ddd1735f1"
      },
      "source": [
        "2 > 0"
      ],
      "execution_count": 45,
      "outputs": [
        {
          "output_type": "execute_result",
          "data": {
            "text/plain": [
              "True"
            ]
          },
          "metadata": {
            "tags": []
          },
          "execution_count": 45
        }
      ]
    },
    {
      "cell_type": "code",
      "metadata": {
        "id": "PlENZfneao_L",
        "colab_type": "code",
        "colab": {
          "base_uri": "https://localhost:8080/",
          "height": 34
        },
        "outputId": "49cb5d38-2fbe-4e57-a00e-fe56e97c9dce"
      },
      "source": [
        "(1 == 1) == (2 == 2) # True == True resulta em True"
      ],
      "execution_count": 48,
      "outputs": [
        {
          "output_type": "execute_result",
          "data": {
            "text/plain": [
              "True"
            ]
          },
          "metadata": {
            "tags": []
          },
          "execution_count": 48
        }
      ]
    },
    {
      "cell_type": "markdown",
      "metadata": {
        "id": "K2T_XLofZ7JG",
        "colab_type": "text"
      },
      "source": [
        "**Teste de hipótese entre strings:**"
      ]
    },
    {
      "cell_type": "code",
      "metadata": {
        "id": "DYjjyj3vbe1K",
        "colab_type": "code",
        "colab": {
          "base_uri": "https://localhost:8080/",
          "height": 34
        },
        "outputId": "55053d2f-ee26-4fa4-eef7-c48c7d78c94e"
      },
      "source": [
        "\"a\" == \"a\""
      ],
      "execution_count": 49,
      "outputs": [
        {
          "output_type": "execute_result",
          "data": {
            "text/plain": [
              "True"
            ]
          },
          "metadata": {
            "tags": []
          },
          "execution_count": 49
        }
      ]
    },
    {
      "cell_type": "code",
      "metadata": {
        "id": "Jn5RKLhPbgkp",
        "colab_type": "code",
        "colab": {
          "base_uri": "https://localhost:8080/",
          "height": 34
        },
        "outputId": "758dc427-1f9a-4a77-db97-7467d2b87d36"
      },
      "source": [
        "\"a\" == \"b\""
      ],
      "execution_count": 50,
      "outputs": [
        {
          "output_type": "execute_result",
          "data": {
            "text/plain": [
              "False"
            ]
          },
          "metadata": {
            "tags": []
          },
          "execution_count": 50
        }
      ]
    },
    {
      "cell_type": "code",
      "metadata": {
        "id": "_-UFnvKtbiMx",
        "colab_type": "code",
        "colab": {
          "base_uri": "https://localhost:8080/",
          "height": 34
        },
        "outputId": "6be7824c-0300-422d-a11e-534a7db62b94"
      },
      "source": [
        "\"a\" < \"b\""
      ],
      "execution_count": 51,
      "outputs": [
        {
          "output_type": "execute_result",
          "data": {
            "text/plain": [
              "True"
            ]
          },
          "metadata": {
            "tags": []
          },
          "execution_count": 51
        }
      ]
    },
    {
      "cell_type": "code",
      "metadata": {
        "id": "Htfqvp9_bojM",
        "colab_type": "code",
        "colab": {
          "base_uri": "https://localhost:8080/",
          "height": 34
        },
        "outputId": "1cb11ed8-2613-4036-8deb-86648cd17945"
      },
      "source": [
        "\"abc\" < \"def\""
      ],
      "execution_count": 52,
      "outputs": [
        {
          "output_type": "execute_result",
          "data": {
            "text/plain": [
              "True"
            ]
          },
          "metadata": {
            "tags": []
          },
          "execution_count": 52
        }
      ]
    },
    {
      "cell_type": "code",
      "metadata": {
        "id": "-Q5OpvLFbqvE",
        "colab_type": "code",
        "colab": {
          "base_uri": "https://localhost:8080/",
          "height": 34
        },
        "outputId": "09ffd333-59c5-4f5c-8647-93c84987703d"
      },
      "source": [
        "\"def\" >= \"bcd\""
      ],
      "execution_count": 54,
      "outputs": [
        {
          "output_type": "execute_result",
          "data": {
            "text/plain": [
              "True"
            ]
          },
          "metadata": {
            "tags": []
          },
          "execution_count": 54
        }
      ]
    },
    {
      "cell_type": "code",
      "metadata": {
        "id": "N_HUl_IibtFq",
        "colab_type": "code",
        "colab": {
          "base_uri": "https://localhost:8080/",
          "height": 34
        },
        "outputId": "7206c9db-8945-4cbc-b30e-e133654eb8cf"
      },
      "source": [
        "\"a\" < \"bcd\""
      ],
      "execution_count": 55,
      "outputs": [
        {
          "output_type": "execute_result",
          "data": {
            "text/plain": [
              "True"
            ]
          },
          "metadata": {
            "tags": []
          },
          "execution_count": 55
        }
      ]
    },
    {
      "cell_type": "code",
      "metadata": {
        "id": "jsY9VcaqbxlV",
        "colab_type": "code",
        "colab": {
          "base_uri": "https://localhost:8080/",
          "height": 34
        },
        "outputId": "8232e26e-268e-402d-dc0d-9aa52db240a1"
      },
      "source": [
        "\"d\" <= \"abc\""
      ],
      "execution_count": 56,
      "outputs": [
        {
          "output_type": "execute_result",
          "data": {
            "text/plain": [
              "False"
            ]
          },
          "metadata": {
            "tags": []
          },
          "execution_count": 56
        }
      ]
    },
    {
      "cell_type": "markdown",
      "metadata": {
        "id": "3dNy3x1Jclvu",
        "colab_type": "text"
      },
      "source": [
        "## Variáveis"
      ]
    },
    {
      "cell_type": "markdown",
      "metadata": {
        "id": "bx0f4TVeczRw",
        "colab_type": "text"
      },
      "source": [
        "Variáveis armazenam dados para uso eficiente ao longo de um script. Como o nome já diz, são pedaços de memória que podem ser alterados.\n",
        "\n",
        "Variáveis funcionam da mesma forma que os pares de chave e valores demonstrados no tipo de dado *Dicionário*.\n",
        "\n",
        "A declaração de uma variável segue a forma:\n",
        "> `nome = valor`\n",
        "\n",
        "\n",
        "As mesmas operações matemáticas, relacionais e lógicas podem ser aplicadas à variáveis. Além disso, variáveis podem tanto ser usadas para armazenar listas, tuplas e dicionários e também podem ser armazenadas em listas, tuplas e dicionários."
      ]
    },
    {
      "cell_type": "markdown",
      "metadata": {
        "id": "yCCyeyz2dxMe",
        "colab_type": "text"
      },
      "source": [
        "### Exemplo de operações com variáveis"
      ]
    },
    {
      "cell_type": "code",
      "metadata": {
        "id": "i7PsCIcwcoR2",
        "colab_type": "code",
        "colab": {
          "base_uri": "https://localhost:8080/",
          "height": 34
        },
        "outputId": "a26ebd30-c47d-49e9-8f52-85378872e601"
      },
      "source": [
        "a = 1\n",
        "b = 2\n",
        "print(a, b) # comando print mostra na tela os valores armazenados nas variáveis \"a\" e \"b\""
      ],
      "execution_count": 59,
      "outputs": [
        {
          "output_type": "stream",
          "text": [
            "1 2\n"
          ],
          "name": "stdout"
        }
      ]
    },
    {
      "cell_type": "code",
      "metadata": {
        "id": "kceq46ateQzE",
        "colab_type": "code",
        "colab": {
          "base_uri": "https://localhost:8080/",
          "height": 34
        },
        "outputId": "e3714f28-e2ea-4891-c35f-4802b9627870"
      },
      "source": [
        "a = 10.3\n",
        "b = 5\n",
        "c = -3\n",
        "print(a + b * c)"
      ],
      "execution_count": 60,
      "outputs": [
        {
          "output_type": "stream",
          "text": [
            "-4.699999999999999\n"
          ],
          "name": "stdout"
        }
      ]
    },
    {
      "cell_type": "code",
      "metadata": {
        "id": "5trXIFpBe0cL",
        "colab_type": "code",
        "colab": {
          "base_uri": "https://localhost:8080/",
          "height": 34
        },
        "outputId": "0bc64878-776e-450b-f74e-1c0debd072dd"
      },
      "source": [
        "a = 'teste'\n",
        "b = 'test'\n",
        "a == b"
      ],
      "execution_count": 61,
      "outputs": [
        {
          "output_type": "execute_result",
          "data": {
            "text/plain": [
              "False"
            ]
          },
          "metadata": {
            "tags": []
          },
          "execution_count": 61
        }
      ]
    },
    {
      "cell_type": "code",
      "metadata": {
        "id": "x1bE_iJlfASW",
        "colab_type": "code",
        "colab": {
          "base_uri": "https://localhost:8080/",
          "height": 51
        },
        "outputId": "672068a1-80f1-487c-e2cc-106f58fa6b54"
      },
      "source": [
        "a = [1, 2, 3]\n",
        "b = [1, 'abc', 'Teste 1,2,3...']\n",
        "print(a)\n",
        "print(b)"
      ],
      "execution_count": 64,
      "outputs": [
        {
          "output_type": "stream",
          "text": [
            "[1, 2, 3]\n",
            "[1, 'abc', 'Teste 1,2,3...']\n"
          ],
          "name": "stdout"
        }
      ]
    },
    {
      "cell_type": "code",
      "metadata": {
        "id": "gZI6AkSbgRIj",
        "colab_type": "code",
        "colab": {
          "base_uri": "https://localhost:8080/",
          "height": 34
        },
        "outputId": "343a0150-1cf6-497b-b6ff-7ddf1ed3acee"
      },
      "source": [
        "var1 = [1, 2, 3]\n",
        "D = {'a': 1, 'b': \"test\", 'c': var1}\n",
        "print(D)"
      ],
      "execution_count": 65,
      "outputs": [
        {
          "output_type": "stream",
          "text": [
            "{'a': 1, 'b': 'test', 'c': [1, 2, 3]}\n"
          ],
          "name": "stdout"
        }
      ]
    },
    {
      "cell_type": "markdown",
      "metadata": {
        "id": "1YutuFGjgloY",
        "colab_type": "text"
      },
      "source": [
        "## Controle de fluxo"
      ]
    },
    {
      "cell_type": "markdown",
      "metadata": {
        "id": "o-eZcmdrgw37",
        "colab_type": "text"
      },
      "source": [
        "Controles de fluxo são utilizados para direcionar a execução de rotinas/subrotinas de acordo com uma condição (ou combinação de condições) lógica.\n",
        "\n",
        "Dentre as expressões de controle de fluxo disponíveis, as mais usadas são `if` (se), `for` (para) e `while` (enquanto). Essas expressões podem ser usadas individualmente ou em conjunto (nested - uma dentro da outra)."
      ]
    },
    {
      "cell_type": "markdown",
      "metadata": {
        "id": "Zi7-kpssoiJU",
        "colab_type": "text"
      },
      "source": [
        "### If\n"
      ]
    },
    {
      "cell_type": "markdown",
      "metadata": {
        "id": "tORlkPGdomCP",
        "colab_type": "text"
      },
      "source": [
        "A declaração **if** testa **se** uma condição e, caso seja verdadeira, executa um subconjunto de declarações. Dentro do controle de fluxo usando *if*, ainda é possível usar variações dessa declaração, como `elif` (\"else if\", ou em português \"senão se\") e `else` (senão).\n",
        "\n",
        "A estrutura de uma declaração condicional utilizando `if` pode ser vista abaixo.\n",
        "\n"
      ]
    },
    {
      "cell_type": "code",
      "metadata": {
        "id": "3fYY6xa4o1mo",
        "colab_type": "code",
        "colab": {
          "base_uri": "https://localhost:8080/",
          "height": 34
        },
        "outputId": "9c213b6a-7201-4c66-b553-b2ff30ed56f5"
      },
      "source": [
        "x = 0\n",
        "\n",
        "if x == 0:\n",
        "    print(\"x é igual a 0\") # essa linha só é executada se x for igual à 0\n",
        "elif x == 1:\n",
        "    print(\"x é igual a 1\") # essa linha só é executada se x for igual à 1\n",
        "else:\n",
        "    print(\"x é diferente de 0 e 1\") # essa linha só é executada se x não for igual à 0 e 1"
      ],
      "execution_count": 66,
      "outputs": [
        {
          "output_type": "stream",
          "text": [
            "x é igual a 0\n"
          ],
          "name": "stdout"
        }
      ]
    },
    {
      "cell_type": "markdown",
      "metadata": {
        "id": "J2ojlvF5px5A",
        "colab_type": "text"
      },
      "source": [
        "Obs: No exemplo acima, `x` poderia ser uma variável numérica, de texto ou uma expressão matemática (dentre outras possibilidades). \n",
        "Além disso, é possível usar quantos `elif` forem necessários (incluindo a opção de não usar nenhum), mas somente um `if` e um `else` podem ser usados em uma única expressão condicional. Outra observação é que o uso de `else` é opcional, sendo possível utilizar apenas o `if`."
      ]
    },
    {
      "cell_type": "markdown",
      "metadata": {
        "id": "seN_EHoDreyW",
        "colab_type": "text"
      },
      "source": [
        "### For"
      ]
    },
    {
      "cell_type": "markdown",
      "metadata": {
        "id": "yT7KCNbiriQz",
        "colab_type": "text"
      },
      "source": [
        "A declaração `for` é um tipo de controle chamado de loop. Essa declaração é utilizada para executar um subconjunto de declarações por um número definido de vezes. Para rodar essa declaração é necessário passar como parâmetro uma lista de valores que serão utilizados em cada iteração (volta de loop).\n",
        "\n",
        "A estrutura de uma declaração condicional utilizando `for` pode ser vista abaixo.\n"
      ]
    },
    {
      "cell_type": "code",
      "metadata": {
        "id": "S0INihCRsf51",
        "colab_type": "code",
        "colab": {
          "base_uri": "https://localhost:8080/",
          "height": 102
        },
        "outputId": "4477a904-7033-4ce5-e2ef-97887d52eed9"
      },
      "source": [
        "valores = [1, 2, 3, 4, 5]\n",
        "\n",
        "for v in valores:\n",
        "    print(v) # a cada loop v assume o próximo valor da lista \"valores\", começando pelo primeiro valor declarado."
      ],
      "execution_count": 67,
      "outputs": [
        {
          "output_type": "stream",
          "text": [
            "1\n",
            "2\n",
            "3\n",
            "4\n",
            "5\n"
          ],
          "name": "stdout"
        }
      ]
    },
    {
      "cell_type": "markdown",
      "metadata": {
        "id": "OJzX1vWhvKlL",
        "colab_type": "text"
      },
      "source": [
        "### While"
      ]
    },
    {
      "cell_type": "markdown",
      "metadata": {
        "id": "cPePxotNvMwJ",
        "colab_type": "text"
      },
      "source": [
        "A declaração while também é uma forma de controle de fluxo em loop. Contudo, ao invés de executar iterativamente uma lista de valores, ela executa enquanto uma condição for verdadeira.\n",
        "\n",
        "A estrutura de uma declaração condicional utilizando `for` pode ser vista abaixo.\n"
      ]
    },
    {
      "cell_type": "code",
      "metadata": {
        "id": "AJiVPyTXvtJy",
        "colab_type": "code",
        "colab": {
          "base_uri": "https://localhost:8080/",
          "height": 102
        },
        "outputId": "b0f65da6-4a76-48fe-8c8b-a29b564bbf7c"
      },
      "source": [
        "var1 = 1\n",
        "\n",
        "while var1 <= 5:\n",
        "    print(var1)\n",
        "    var1 += 1 # var1 acumula 1 a cada iteração. Equivalente à var1 = var1 + 1"
      ],
      "execution_count": 69,
      "outputs": [
        {
          "output_type": "stream",
          "text": [
            "1\n",
            "2\n",
            "3\n",
            "4\n",
            "5\n"
          ],
          "name": "stdout"
        }
      ]
    },
    {
      "cell_type": "markdown",
      "metadata": {
        "id": "7r5sirYox4HI",
        "colab_type": "text"
      },
      "source": [
        "## Funções"
      ]
    },
    {
      "cell_type": "markdown",
      "metadata": {
        "id": "FKal0cHAyYas",
        "colab_type": "text"
      },
      "source": [
        "Funções são um conjunto de declarações que são executadas em uma ordem definida. Uma das principais vantagens de se utilizar funções é a possibilidade de programá-las apenas uma vez e reutilizá-las em várias ocasiões e em vários scripts (ou outras funções) diferentes.\n",
        "\n",
        "A função é declarada utilizando o comando `def` e pode incluir parâmetros de entrada como requerimentos para poder executar.\n",
        "\n",
        "Um exemplo de uma função pode ser vista abaixo."
      ]
    },
    {
      "cell_type": "code",
      "metadata": {
        "id": "Y6L6szV0zQqQ",
        "colab_type": "code",
        "colab": {}
      },
      "source": [
        "# Função com nome print_for_loop que tem como parâmetro de entrada \"n\"\n",
        "def print_for_loop(n):\n",
        "    for i in range(n): # função range(n) cria uma lista de valores: 0, 1, 2...n-1 (porque começa de 0)\n",
        "        print(i)"
      ],
      "execution_count": 0,
      "outputs": []
    },
    {
      "cell_type": "code",
      "metadata": {
        "id": "Nj82rZSY1YEQ",
        "colab_type": "code",
        "colab": {
          "base_uri": "https://localhost:8080/",
          "height": 187
        },
        "outputId": "612944e8-ed36-41d7-92f5-56c8d0271090"
      },
      "source": [
        "n = 10\n",
        "print_for_loop(n)"
      ],
      "execution_count": 71,
      "outputs": [
        {
          "output_type": "stream",
          "text": [
            "0\n",
            "1\n",
            "2\n",
            "3\n",
            "4\n",
            "5\n",
            "6\n",
            "7\n",
            "8\n",
            "9\n"
          ],
          "name": "stdout"
        }
      ]
    },
    {
      "cell_type": "code",
      "metadata": {
        "id": "-AmGecy42RnT",
        "colab_type": "code",
        "colab": {}
      },
      "source": [
        "def sum_list(l):\n",
        "    result = 0\n",
        "    for value in l:\n",
        "        result += value\n",
        "    return result"
      ],
      "execution_count": 0,
      "outputs": []
    },
    {
      "cell_type": "code",
      "metadata": {
        "id": "WU4buDkj3J-U",
        "colab_type": "code",
        "colab": {
          "base_uri": "https://localhost:8080/",
          "height": 34
        },
        "outputId": "adcf7619-54e1-447a-d27c-1936f45370bd"
      },
      "source": [
        "S = sum_list([1, 2, 3])\n",
        "print(S)"
      ],
      "execution_count": 79,
      "outputs": [
        {
          "output_type": "stream",
          "text": [
            "6\n"
          ],
          "name": "stdout"
        }
      ]
    }
  ]
}